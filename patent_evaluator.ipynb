{
 "cells": [
  {
   "cell_type": "code",
   "execution_count": 1,
   "metadata": {},
   "outputs": [],
   "source": [
    "import torch\n",
    "import numpy as np\n",
    "from torch import nn\n",
    "from torch import optim\n",
    "import torch.nn.functional as F\n",
    "from torchvision import datasets, transforms, models\n",
    "#import imageclassfunctions as icf\n",
    "import json\n",
    "import argparse"
   ]
  },
  {
   "cell_type": "code",
   "execution_count": 2,
   "metadata": {},
   "outputs": [],
   "source": [
    "# TODO: Write a function that loads a checkpoint and rebuilds the model\n",
    "def load_checkpoint(filepath):\n",
    "\n",
    "    checkpoint = torch.load(filepath, map_location='cpu')\n",
    "\n",
    "    if checkpoint['model name'] == \"vgg13\":\n",
    "        model = models.vgg13(pretrained=True)\n",
    "    else:\n",
    "        model = models.vgg19(pretrained=True)\n",
    "\n",
    "    from collections import OrderedDict\n",
    "    classifier = nn.Sequential(OrderedDict([\n",
    "                          ('fc1', nn.Linear(25088, checkpoint['Hidden units'])),\n",
    "                          ('relu', nn.ReLU()),\n",
    "                          ('fc2', nn.Linear(checkpoint['Hidden units'], 20)),\n",
    "                          ('output', nn.LogSoftmax(dim=1))\n",
    "                          ]))\n",
    "    model.classifier = classifier\n",
    "    model.load_state_dict(checkpoint['state_dict'])\n",
    "    \n",
    "    return model   \n",
    "\n",
    "def process_image(image):\n",
    "    ''' Scales, crops, and normalizes a PIL image for a PyTorch model,\n",
    "        returns an Numpy array\n",
    "    '''\n",
    "    # TODO: Process a PIL image for use in a PyTorch model\n",
    "    from PIL import Image\n",
    "    \n",
    "    im = Image.open(image)\n",
    "    w = im.width\n",
    "    h = im.height\n",
    "\n",
    "    if w <= h:\n",
    "        h = int(256 * h / w)\n",
    "        w = 256\n",
    "    else:\n",
    "        w = int(256 * w / h)\n",
    "        h = 256\n",
    "        \n",
    "    im2 = im.resize((w, h))\n",
    "    im3 = im2.crop((int(w/2)-112, int(h/2)-112, int(w/2)+112, int(h/2)+112))\n",
    "    np_image = ((np.array(im3) / 255 - [0.485, 0.456, 0.406]) / [0.229, 0.224, 0.225]) .transpose(2,0,1)\n",
    "    \n",
    "    return np_image\n",
    "\n",
    "\n",
    "def predt(image_path, model, device, topk):\n",
    "    ''' Predict the class (or classes) of an image using a trained deep learning model.\n",
    "    '''\n",
    "    \n",
    "    checkimg = process_image(image_path)\n",
    "        \n",
    "    imgt = torch.from_numpy(checkimg)\n",
    "    imgt = imgt.type(torch.FloatTensor)\n",
    "    \n",
    "    imgt.unsqueeze_(0)\n",
    "    \n",
    "    preResult = model(imgt)\n",
    "    return preResult.topk(topk)"
   ]
  },
  {
   "cell_type": "code",
   "execution_count": 3,
   "metadata": {},
   "outputs": [
    {
     "name": "stdout",
     "output_type": "stream",
     "text": [
      "[0.99028665 0.00526081 0.00394751]\n",
      "[15, 12, 16]\n",
      "['yellow iris', \"colt's foot\", 'globe-flower']\n"
     ]
    }
   ],
   "source": [
    "\n",
    "probs, fcla_ids = predt('yellowiris01.jpg', load_checkpoint('checkpoint_3.pth'), 'cpu', 3)\n",
    "\n",
    "pro_n = probs.detach().numpy()[0]\n",
    "fcla_n = fcla_ids.numpy()[0] \n",
    "\n",
    "pro_n = np.exp(pro_n)\n",
    "print(pro_n)\n",
    "\n",
    "foldernum = list(range(20))\n",
    "folderind = [1, 10] + list(range(11, 20)) + [2, 20] + [3] + [4] + [5] + [6] + [7] + [8] + [9]\n",
    "\n",
    "id_to_foldernum = dict(zip(foldernum, folderind))\n",
    "\n",
    "fclass = []\n",
    "for fcla_nn in fcla_n:\n",
    "    fclass.append(id_to_foldernum[fcla_nn])\n",
    "print(fclass)\n",
    "\n",
    "fclass = np.array(fclass)\n",
    "fclastr = fclass.astype(np.str)\n",
    "fnames = []\n",
    "\n",
    "with open('cat_to_name.json', 'r') as f:\n",
    "    cat_to_name = json.load(f)\n",
    "for fstr in fclastr:\n",
    "    fnames.append(cat_to_name[fstr]) \n",
    "print(fnames)\n"
   ]
  },
  {
   "cell_type": "code",
   "execution_count": null,
   "metadata": {},
   "outputs": [],
   "source": []
  }
 ],
 "metadata": {
  "kernelspec": {
   "display_name": "Python 3",
   "language": "python",
   "name": "python3"
  },
  "language_info": {
   "codemirror_mode": {
    "name": "ipython",
    "version": 3
   },
   "file_extension": ".py",
   "mimetype": "text/x-python",
   "name": "python",
   "nbconvert_exporter": "python",
   "pygments_lexer": "ipython3",
   "version": "3.6.6"
  }
 },
 "nbformat": 4,
 "nbformat_minor": 2
}
